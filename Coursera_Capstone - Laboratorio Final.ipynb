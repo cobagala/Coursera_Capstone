{
    "cells": [
        {
            "metadata": {
                "collapsed": true
            },
            "cell_type": "markdown",
            "source": "# **Ciencia de Datos Aplicada**"
        },
        {
            "metadata": {},
            "cell_type": "markdown",
            "source": "Este cuaderno es para iniciar el proyecto final del Curso Ciencias de Datos Aplicada.\n\nServir\u00e1 para realizar los ejercicios correspondientes al curso y empezamos con\n"
        },
        {
            "metadata": {},
            "cell_type": "markdown",
            "source": "Importar los m\u00f3dulos panda"
        },
        {
            "metadata": {},
            "cell_type": "code",
            "source": "import pandas as pd\nimport numpy as np",
            "execution_count": 1,
            "outputs": []
        },
        {
            "metadata": {},
            "cell_type": "code",
            "source": "print(\"\u00a1Hola, Proyecto Final del Curso!\")",
            "execution_count": 2,
            "outputs": [
                {
                    "output_type": "stream",
                    "text": "\u00a1Hola, Proyecto Final del Curso!\n",
                    "name": "stdout"
                }
            ]
        },
        {
            "metadata": {},
            "cell_type": "code",
            "source": "",
            "execution_count": null,
            "outputs": []
        }
    ],
    "metadata": {
        "kernelspec": {
            "name": "python3",
            "display_name": "Python 3.9",
            "language": "python"
        },
        "language_info": {
            "name": "python",
            "version": "3.9.12",
            "mimetype": "text/x-python",
            "codemirror_mode": {
                "name": "ipython",
                "version": 3
            },
            "pygments_lexer": "ipython3",
            "nbconvert_exporter": "python",
            "file_extension": ".py"
        }
    },
    "nbformat": 4,
    "nbformat_minor": 1
}